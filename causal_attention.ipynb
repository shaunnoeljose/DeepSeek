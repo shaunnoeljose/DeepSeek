{
 "cells": [
  {
   "cell_type": "markdown",
   "id": "0648b4da",
   "metadata": {},
   "source": [
    "#### Casual Self Attention"
   ]
  },
  {
   "cell_type": "markdown",
   "id": "7ee51456",
   "metadata": {},
   "source": [
    "We need to mask the upper triangle of the attention scores/ attention weights to not allow the tokens see the context for the future tokens. There are 2 ways to do it:\n",
    "\n",
    "* Masking the attention weights after the softmax is applied. We mask the uppper triangle of the attention weights matrix with 0 and then peform another round of normalization.\n",
    "* The 2nd method is to mask the uper triangle of the attention scores matrix and then apply the soft-max nornmalization technique.\n",
    "\n",
    "The 1st method is more efficient as it avoids multiple normalisation and uses less computation.\n",
    "\n",
    "**Efficinent method**\n",
    "\n",
    "Attention scores --> Upper triangle -ve infinity mask --> softmax "
   ]
  },
  {
   "cell_type": "code",
   "execution_count": 3,
   "id": "9d2528e4",
   "metadata": {},
   "outputs": [],
   "source": [
    "import torch\n",
    "import torch.nn as nn\n",
    "import pandas as pd\n",
    "import numpy as np"
   ]
  },
  {
   "cell_type": "code",
   "execution_count": 11,
   "id": "3dace7aa",
   "metadata": {},
   "outputs": [],
   "source": [
    "inputs = torch.tensor(\n",
    "    [[0.43,0.15,0.89], # Your\n",
    "    [0.55, 0.87, 0.66], # journey\n",
    "    [0.57, 0.85, 0.64], # starts\n",
    "    [0.22, 0.58, 0.33], # with\n",
    "    [0.77, 0.25, 0.10], # one\n",
    "    [0.05, 0.80, 0.55]] # step\n",
    ")"
   ]
  },
  {
   "cell_type": "markdown",
   "id": "4d784da9",
   "metadata": {},
   "source": [
    "Defining elements\n",
    "\n",
    "* A: The second input element\n",
    "* B: Input embedding size, d_in=3\n",
    "* C: Output embedding size, d_out=2 "
   ]
  },
  {
   "cell_type": "code",
   "execution_count": 12,
   "id": "e73fccb1",
   "metadata": {},
   "outputs": [
    {
     "name": "stdout",
     "output_type": "stream",
     "text": [
      "Input shape is 3\n",
      "Output shape is 2\n",
      "Query weights:Parameter containing:\n",
      "tensor([[0.2961, 0.5166],\n",
      "        [0.2517, 0.6886],\n",
      "        [0.0740, 0.8665]])\n",
      " \n",
      "Key weights:Parameter containing:\n",
      "tensor([[0.1366, 0.1025],\n",
      "        [0.1841, 0.7264],\n",
      "        [0.3153, 0.6871]])\n",
      " \n",
      "Value weights:Parameter containing:\n",
      "tensor([[0.0756, 0.1966],\n",
      "        [0.3164, 0.4017],\n",
      "        [0.1186, 0.8274]])\n",
      " \n",
      "The tensor value for the second token is tensor([0.5500, 0.8700, 0.6600])\n"
     ]
    }
   ],
   "source": [
    "d_in = inputs.shape[1]\n",
    "print(f\"Input shape is {d_in}\")\n",
    "d_out = 2\n",
    "print(f\"Output shape is {d_out}\")\n",
    "\n",
    "# Intialising the weight matrices\n",
    "\n",
    "\"\"\"\n",
    "requires_grad is set to False to reduce clutter. But if we were to use the weight matrices for training we would set up to be equal to True.\n",
    "So that it updates the amtricews during model training.\n",
    "\"\"\"\n",
    "W_query = torch.nn.Parameter(torch.rand(d_in, d_out), requires_grad = False) \n",
    "W_key = torch.nn.Parameter(torch.rand(d_in, d_out), requires_grad = False)\n",
    "W_value = torch.nn.Parameter(torch.rand(d_in, d_out), requires_grad = False)\n",
    "\n",
    "print(f\"Query weights:{W_query}\")\n",
    "print(\" \")\n",
    "print(f\"Key weights:{W_key}\")\n",
    "print(\" \")\n",
    "print(f\"Value weights:{W_value}\")\n",
    "print(\" \")\n",
    "\n",
    "\"\"\"\n",
    "For GPT like models the input and the output dimensions are usually the same. But for demostration we are using different dimensions\n",
    "\"\"\"\n",
    "x_2 = inputs[1]\n",
    "print(f\"The tensor value for the second token is {x_2}\")\n"
   ]
  },
  {
   "cell_type": "code",
   "execution_count": 13,
   "id": "885da3e6",
   "metadata": {},
   "outputs": [
    {
     "name": "stdout",
     "output_type": "stream",
     "text": [
      "The query vector for the 2nd token is tensor([0.4306, 1.4551])\n",
      "The key vector for the 2nd token is tensor([0.4433, 1.1419])\n",
      "The value vector for the 2nd token is tensor([0.3951, 1.0037])\n"
     ]
    }
   ],
   "source": [
    "\"\"\"\n",
    "We get a 1x2 dimensional query, key and value vector. Even though our temporary goal is to only compute the one context vector z(2).\n",
    "We still require key and value vectors for all the input. As this is required for the calculation of the attention weights\n",
    "with respect to the query q(2).\n",
    "\"\"\"\n",
    "query_2 = x_2 @ W_query\n",
    "key_2 = x_2 @ W_key\n",
    "value_2 = x_2 @ W_value\n",
    "\n",
    "print(f\"The query vector for the 2nd token is {query_2}\")\n",
    "print(f\"The key vector for the 2nd token is {key_2}\")\n",
    "print(f\"The value vector for the 2nd token is {value_2}\")"
   ]
  },
  {
   "cell_type": "code",
   "execution_count": 14,
   "id": "4568a107",
   "metadata": {},
   "outputs": [
    {
     "name": "stdout",
     "output_type": "stream",
     "text": [
      "Shape of queries matrix: torch.Size([6, 2])\n",
      "Shape of keys matrix: torch.Size([6, 2])\n",
      "Shape of values matrix: torch.Size([6, 2])\n",
      " \n",
      "Attention score between the 2nd token and the 2nd token: 1.8523844480514526\n",
      " \n",
      "Attention score for the entire 2nd token: tensor([1.2705, 1.8524, 1.8111, 1.0795, 0.5577, 1.5440])\n",
      " \n",
      "Entire attention score matrix: tensor([[0.9231, 1.3545, 1.3241, 0.7910, 0.4032, 1.1330],\n",
      "        [1.2705, 1.8524, 1.8111, 1.0795, 0.5577, 1.5440],\n",
      "        [1.2544, 1.8284, 1.7877, 1.0654, 0.5508, 1.5238],\n",
      "        [0.6973, 1.0167, 0.9941, 0.5925, 0.3061, 0.8475],\n",
      "        [0.6114, 0.8819, 0.8626, 0.5121, 0.2707, 0.7307],\n",
      "        [0.8995, 1.3165, 1.2871, 0.7682, 0.3937, 1.0996]])\n"
     ]
    }
   ],
   "source": [
    "# Computing the query, key and value vectors\n",
    "\n",
    "queries = inputs @ W_query\n",
    "keys = inputs @ W_key\n",
    "values = inputs @ W_value\n",
    "\n",
    "# We have projected the 6 input tokens from a 3D space onto a 2D embedding space.\n",
    "print(f\"Shape of queries matrix: {queries.shape}\")\n",
    "print(f\"Shape of keys matrix: {keys.shape}\")\n",
    "print(f\"Shape of values matrix: {values.shape}\")\n",
    "print(\" \")\n",
    "\n",
    "# Computing the attention score for the 2nd token\n",
    "keys_2 = keys[1]\n",
    "attn_score_22 = query_2.dot(keys_2)\n",
    "print(f\"Attention score between the 2nd token and the 2nd token: {attn_score_22}\")\n",
    "print(\" \")\n",
    "\n",
    "# Generalising the computation to get all attention scores by matrix multiplication for the 2nd token\n",
    "attn_score_2 = query_2 @ keys.T #all attention scores for the 2nd token(query)\n",
    "print(f\"Attention score for the entire 2nd token: {attn_score_2}\")\n",
    "print(\" \")\n",
    "\n",
    "# Entire attention score matrix\n",
    "attn_score = queries @ keys.T\n",
    "print(f\"Entire attention score matrix: {attn_score}\")"
   ]
  },
  {
   "cell_type": "markdown",
   "id": "9122be93",
   "metadata": {},
   "source": [
    "The next step is to calculate the attention weights by scaling the attention scores and performing a softmax operation. For causal attention we need to mask the upper triangle with -ve infinity. We can resue the class SelfAttention_v2 from multi_head_attention.ipynb notebook"
   ]
  },
  {
   "cell_type": "code",
   "execution_count": 15,
   "id": "76835447",
   "metadata": {},
   "outputs": [],
   "source": [
    "inputs = torch.tensor(\n",
    "    [[0.43, 0.15, 0.89], # Yopur\n",
    "     [0.55, 0.87, 0.66], # journey\n",
    "     [0.57, 0.85, 0.64], # starts\n",
    "     [0.22, 0.58, 0.33], # with\n",
    "     [0.77, 0.25, 0.10], # one\n",
    "     [0.05, 0.80, 0.55]] # step\n",
    ")\n",
    "\n",
    "d_in = 3\n",
    "d_out = 2"
   ]
  },
  {
   "cell_type": "code",
   "execution_count": 16,
   "id": "f65af343",
   "metadata": {},
   "outputs": [],
   "source": [
    "class SelfAttention_v2(nn.Module):\n",
    "    \n",
    "    def __init__(self, d_in, d_out, qkv_bias=False):\n",
    "        super().__init__()\n",
    "        self.W_query = nn.Linear(d_in, d_out, bias = qkv_bias)\n",
    "        self.W_key = nn.Linear(d_in, d_out, bias = qkv_bias)\n",
    "        self.W_value = nn.Linear(d_in, d_out, bias = qkv_bias)\n",
    "\n",
    "    def forward(self, x):\n",
    "        keys = self.W_key(x)\n",
    "        queries = self.W_query(x)\n",
    "        values = self.W_value(x) \n",
    "\n",
    "        attn_scores = queries @ keys.T\n",
    "        attn_weight = torch.softmax(attn_scores / keys.shape[-1]**0.5, dim = -1)\n",
    "\n",
    "        context_vec = attn_weight @ values\n",
    "        return context_vec\n",
    "        \n",
    "sa_v2 = SelfAttention_v2(d_in, d_out)"
   ]
  },
  {
   "cell_type": "code",
   "execution_count": 17,
   "id": "43011d27",
   "metadata": {},
   "outputs": [
    {
     "name": "stdout",
     "output_type": "stream",
     "text": [
      "tensor([[0.1362, 0.1730, 0.1736, 0.1713, 0.1792, 0.1666],\n",
      "        [0.1359, 0.1730, 0.1735, 0.1716, 0.1790, 0.1670],\n",
      "        [0.1366, 0.1729, 0.1734, 0.1714, 0.1788, 0.1669],\n",
      "        [0.1493, 0.1701, 0.1704, 0.1697, 0.1732, 0.1674],\n",
      "        [0.1589, 0.1690, 0.1692, 0.1667, 0.1712, 0.1649],\n",
      "        [0.1408, 0.1715, 0.1718, 0.1717, 0.1758, 0.1684]],\n",
      "       grad_fn=<SoftmaxBackward0>)\n"
     ]
    }
   ],
   "source": [
    "queries = sa_v2.W_query(inputs)\n",
    "keys = sa_v2.W_key(inputs)\n",
    "attn_scores = queries @ keys.T\n",
    "attn_weights = torch.softmax(attn_scores / keys.shape[-1]**0.5, dim = 1 )\n",
    "print(attn_weights)"
   ]
  },
  {
   "cell_type": "code",
   "execution_count": 18,
   "id": "1bb1579f",
   "metadata": {},
   "outputs": [
    {
     "name": "stdout",
     "output_type": "stream",
     "text": [
      "tensor([[1., 1., 1., 1., 1., 1.],\n",
      "        [1., 1., 1., 1., 1., 1.],\n",
      "        [1., 1., 1., 1., 1., 1.],\n",
      "        [1., 1., 1., 1., 1., 1.],\n",
      "        [1., 1., 1., 1., 1., 1.],\n",
      "        [1., 1., 1., 1., 1., 1.]])\n",
      " \n",
      "tensor([[1., 0., 0., 0., 0., 0.],\n",
      "        [1., 1., 0., 0., 0., 0.],\n",
      "        [1., 1., 1., 0., 0., 0.],\n",
      "        [1., 1., 1., 1., 0., 0.],\n",
      "        [1., 1., 1., 1., 1., 0.],\n",
      "        [1., 1., 1., 1., 1., 1.]])\n",
      " \n",
      "tensor([[0.1362, 0.0000, 0.0000, 0.0000, 0.0000, 0.0000],\n",
      "        [0.1359, 0.1730, 0.0000, 0.0000, 0.0000, 0.0000],\n",
      "        [0.1366, 0.1729, 0.1734, 0.0000, 0.0000, 0.0000],\n",
      "        [0.1493, 0.1701, 0.1704, 0.1697, 0.0000, 0.0000],\n",
      "        [0.1589, 0.1690, 0.1692, 0.1667, 0.1712, 0.0000],\n",
      "        [0.1408, 0.1715, 0.1718, 0.1717, 0.1758, 0.1684]],\n",
      "       grad_fn=<MulBackward0>)\n",
      " \n",
      "tensor([[1.0000, 0.0000, 0.0000, 0.0000, 0.0000, 0.0000],\n",
      "        [0.4400, 0.5600, 0.0000, 0.0000, 0.0000, 0.0000],\n",
      "        [0.2830, 0.3580, 0.3590, 0.0000, 0.0000, 0.0000],\n",
      "        [0.2264, 0.2579, 0.2583, 0.2574, 0.0000, 0.0000],\n",
      "        [0.1903, 0.2024, 0.2026, 0.1997, 0.2051, 0.0000],\n",
      "        [0.1408, 0.1715, 0.1718, 0.1717, 0.1758, 0.1684]],\n",
      "       grad_fn=<DivBackward0>)\n"
     ]
    }
   ],
   "source": [
    "# 1st Method --> Updating attention weights above teh diagonal to zero and then normalising \n",
    "\n",
    "# We can use PyTorch tril function to create a mask where the values above the diagonal are zero\n",
    "context_length = attn_scores.shape[0]\n",
    "print(torch.ones(context_length, context_length))\n",
    "print(\" \")\n",
    "\n",
    "mask_simple = torch.tril(torch.ones(context_length, context_length)) # Masking upper diagonal with zero\n",
    "print(mask_simple)\n",
    "print(\" \")\n",
    "\n",
    "# Multiplying the masked matrix with the attention weights to zsero out the upper diagonal values.\n",
    "masked_simple = attn_weights * mask_simple\n",
    "print(masked_simple)\n",
    "print(\" \")\n",
    "\n",
    "# The elements above the diagonal are zeroed out but needs to be normalised\n",
    "row_sums = masked_simple.sum(dim =1, keepdim = True)\n",
    "masked_simple_norm = masked_simple/row_sums\n",
    "print(masked_simple_norm)"
   ]
  },
  {
   "cell_type": "code",
   "execution_count": 19,
   "id": "53bc46f8",
   "metadata": {},
   "outputs": [
    {
     "name": "stdout",
     "output_type": "stream",
     "text": [
      "tensor([[-0.2327,  0.1055,  0.1098,  0.0913,  0.1549,  0.0521],\n",
      "        [-0.2396,  0.1015,  0.1057,  0.0902,  0.1501,  0.0518],\n",
      "        [-0.2323,  0.1004,  0.1045,  0.0885,  0.1481,  0.0507],\n",
      "        [-0.1344,  0.0502,  0.0523,  0.0470,  0.0753,  0.0272],\n",
      "        [-0.0349,  0.0520,  0.0538,  0.0331,  0.0708,  0.0174],\n",
      "        [-0.2142,  0.0650,  0.0679,  0.0668,  0.1004,  0.0395]],\n",
      "       grad_fn=<MmBackward0>)\n",
      " \n",
      "tensor([[-0.2327,    -inf,    -inf,    -inf,    -inf,    -inf],\n",
      "        [-0.2396,  0.1015,    -inf,    -inf,    -inf,    -inf],\n",
      "        [-0.2323,  0.1004,  0.1045,    -inf,    -inf,    -inf],\n",
      "        [-0.1344,  0.0502,  0.0523,  0.0470,    -inf,    -inf],\n",
      "        [-0.0349,  0.0520,  0.0538,  0.0331,  0.0708,    -inf],\n",
      "        [-0.2142,  0.0650,  0.0679,  0.0668,  0.1004,  0.0395]],\n",
      "       grad_fn=<MaskedFillBackward0>)\n",
      " \n",
      "tensor([[1.0000, 0.0000, 0.0000, 0.0000, 0.0000, 0.0000],\n",
      "        [0.4400, 0.5600, 0.0000, 0.0000, 0.0000, 0.0000],\n",
      "        [0.2830, 0.3580, 0.3590, 0.0000, 0.0000, 0.0000],\n",
      "        [0.2264, 0.2579, 0.2583, 0.2574, 0.0000, 0.0000],\n",
      "        [0.1903, 0.2024, 0.2026, 0.1997, 0.2051, 0.0000],\n",
      "        [0.1408, 0.1715, 0.1718, 0.1717, 0.1758, 0.1684]],\n",
      "       grad_fn=<SoftmaxBackward0>)\n"
     ]
    }
   ],
   "source": [
    "# 2nd Method --> Updating attention scores above the diagonal to -ve infinity and then applying scaling normalising(softmax) to get attention scores\n",
    "print(attn_scores)  \n",
    "print(\" \")\n",
    "\n",
    "mask = torch.triu(torch.ones(context_length,context_length), diagonal = 1 )\n",
    "masked = attn_scores.masked_fill(mask.bool(), -torch.inf)\n",
    "print(masked)\n",
    "print(\" \")\n",
    "\n",
    "# applying softmax to the masked matrix, changes the -ve infinity to 0s and sum of every row = 1\n",
    "attn_weights = torch.softmax(masked / keys.shape[-1]**0.5, dim = 1)\n",
    "print(attn_weights) \n",
    "\n",
    "# Both the methods give us the same answer. But the 2nd method is more efficient than the 1st one."
   ]
  },
  {
   "cell_type": "code",
   "execution_count": 27,
   "id": "8cde3f15",
   "metadata": {},
   "outputs": [
    {
     "name": "stdout",
     "output_type": "stream",
     "text": [
      "tensor([[1., 1., 1., 1., 1., 1.],\n",
      "        [1., 1., 1., 1., 1., 1.],\n",
      "        [1., 1., 1., 1., 1., 1.],\n",
      "        [1., 1., 1., 1., 1., 1.],\n",
      "        [1., 1., 1., 1., 1., 1.],\n",
      "        [1., 1., 1., 1., 1., 1.]])\n",
      " \n",
      "Dropout example: tensor([[2., 2., 0., 2., 2., 0.],\n",
      "        [0., 0., 0., 2., 0., 2.],\n",
      "        [2., 2., 2., 2., 0., 2.],\n",
      "        [0., 2., 2., 0., 0., 2.],\n",
      "        [0., 2., 0., 2., 0., 2.],\n",
      "        [0., 2., 2., 2., 2., 0.]])\n",
      "\n",
      "Dropout example for the attention weights: tensor([[2.0000, 0.0000, 0.0000, 0.0000, 0.0000, 0.0000],\n",
      "        [0.0000, 0.0000, 0.0000, 0.0000, 0.0000, 0.0000],\n",
      "        [0.5659, 0.7160, 0.7181, 0.0000, 0.0000, 0.0000],\n",
      "        [0.0000, 0.5159, 0.5167, 0.0000, 0.0000, 0.0000],\n",
      "        [0.0000, 0.4047, 0.0000, 0.3993, 0.0000, 0.0000],\n",
      "        [0.0000, 0.3430, 0.3437, 0.3434, 0.3516, 0.0000]],\n",
      "       grad_fn=<MulBackward0>)\n"
     ]
    }
   ],
   "source": [
    "# Masking additional weights with dropout \n",
    "\"\"\"\n",
    "Using 50% dropout rate, masking half of the attention weights. Ideally when training the GPT models a lower dropout rate is prefered (0.1 or 0.2).\n",
    "Applying PyTorch's dropout implementation to a 6x6 tensor consisting of ones\n",
    "\"\"\"\n",
    "\n",
    "example = torch.ones(6,6)\n",
    "print(example)\n",
    "print(\" \")\n",
    "\n",
    "\"\"\"The dropout rate would be on an average, all the rows does not necessarily have to have 50% of the length being cut short.\n",
    "With 0.5 dropout factor the neurons which is not put to zero would be scaled by 1/ 0.5 .The scaling is to maintain the overall balance of the\n",
    "attention weights, ensuring that the average influence of the attention mechanism remains consistent during both the training and inference phase.\n",
    "\"\"\"\n",
    "torch.manual_seed(123)\n",
    "dropout = torch.nn.Dropout(0.5)\n",
    "print(f\"Dropout example: {dropout(example)}\\n\")\n",
    "\n",
    "# Applying dropout to the attention weigt matrix\n",
    "torch.manual_seed(123)\n",
    "print(f\"Dropout example for the attention weights: {dropout(attn_weights)}\")"
   ]
  },
  {
   "cell_type": "code",
   "execution_count": null,
   "id": "0a7c47af",
   "metadata": {},
   "outputs": [],
   "source": []
  }
 ],
 "metadata": {
  "kernelspec": {
   "display_name": "Python 3",
   "language": "python",
   "name": "python3"
  },
  "language_info": {
   "codemirror_mode": {
    "name": "ipython",
    "version": 3
   },
   "file_extension": ".py",
   "mimetype": "text/x-python",
   "name": "python",
   "nbconvert_exporter": "python",
   "pygments_lexer": "ipython3",
   "version": "3.12.1"
  }
 },
 "nbformat": 4,
 "nbformat_minor": 5
}
