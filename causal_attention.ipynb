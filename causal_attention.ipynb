{
 "cells": [
  {
   "cell_type": "markdown",
   "id": "0648b4da",
   "metadata": {},
   "source": [
    "#### Casual Self Attention"
   ]
  },
  {
   "cell_type": "markdown",
   "id": "7ee51456",
   "metadata": {},
   "source": [
    "We need to mask the upper triangle of the attention scores/ attention weights to not allow the tokens see the context for the future tokens. There are 2 ways to do it:\n",
    "\n",
    "* Masking the attention weights after the softmax is applied. We mask the uppper triangle of the attention weights matrix with 0 and then peform another round of normalization.\n",
    "* The 2nd method is to mask the uper triangle of the attention scores matrix and then apply the soft-max nornmalization technique.\n",
    "\n",
    "The 1st method is more efficient as it avoids multiple normalisation and uses less computation.\n",
    "\n",
    "**Efficinent method**\n",
    "\n",
    "Attention scores --> Upper triangle -ve infinity mask --> softmax "
   ]
  },
  {
   "cell_type": "code",
   "execution_count": 1,
   "id": "9d2528e4",
   "metadata": {},
   "outputs": [],
   "source": [
    "import torch\n",
    "import torch.nn as nn\n",
    "import pandas as pd\n",
    "import numpy as np"
   ]
  },
  {
   "cell_type": "code",
   "execution_count": 2,
   "id": "3dace7aa",
   "metadata": {},
   "outputs": [],
   "source": [
    "inputs = torch.tensor(\n",
    "    [[0.43,0.15,0.89], # Your\n",
    "    [0.55, 0.87, 0.66], # journey\n",
    "    [0.57, 0.85, 0.64], # starts\n",
    "    [0.22, 0.58, 0.33], # with\n",
    "    [0.77, 0.25, 0.10], # one\n",
    "    [0.05, 0.80, 0.55]] # step\n",
    ")"
   ]
  },
  {
   "cell_type": "markdown",
   "id": "4d784da9",
   "metadata": {},
   "source": [
    "Defining elements\n",
    "\n",
    "* A: The second input element\n",
    "* B: Input embedding size, d_in=3\n",
    "* C: Output embedding size, d_out=2 "
   ]
  },
  {
   "cell_type": "code",
   "execution_count": 3,
   "id": "e73fccb1",
   "metadata": {},
   "outputs": [
    {
     "name": "stdout",
     "output_type": "stream",
     "text": [
      "Input shape is 3\n",
      "Output shape is 2\n",
      "Query weights:Parameter containing:\n",
      "tensor([[0.0293, 0.7416],\n",
      "        [0.2832, 0.3228],\n",
      "        [0.9760, 0.4255]])\n",
      " \n",
      "Key weights:Parameter containing:\n",
      "tensor([[0.9567, 0.2613],\n",
      "        [0.8034, 0.3252],\n",
      "        [0.9757, 0.5019]])\n",
      " \n",
      "Value weights:Parameter containing:\n",
      "tensor([[0.7378, 0.9607],\n",
      "        [0.6535, 0.1652],\n",
      "        [0.6051, 0.2268]])\n",
      " \n",
      "The tensor value for the second token is tensor([0.5500, 0.8700, 0.6600])\n"
     ]
    }
   ],
   "source": [
    "d_in = inputs.shape[1]\n",
    "print(f\"Input shape is {d_in}\")\n",
    "d_out = 2\n",
    "print(f\"Output shape is {d_out}\")\n",
    "\n",
    "# Intialising the weight matrices\n",
    "\n",
    "\"\"\"\n",
    "requires_grad is set to False to reduce clutter. But if we were to use the weight matrices for training we would set up to be equal to True.\n",
    "So that it updates the amtricews during model training.\n",
    "\"\"\"\n",
    "W_query = torch.nn.Parameter(torch.rand(d_in, d_out), requires_grad = False) \n",
    "W_key = torch.nn.Parameter(torch.rand(d_in, d_out), requires_grad = False)\n",
    "W_value = torch.nn.Parameter(torch.rand(d_in, d_out), requires_grad = False)\n",
    "\n",
    "print(f\"Query weights:{W_query}\")\n",
    "print(\" \")\n",
    "print(f\"Key weights:{W_key}\")\n",
    "print(\" \")\n",
    "print(f\"Value weights:{W_value}\")\n",
    "print(\" \")\n",
    "\n",
    "\"\"\"\n",
    "For GPT like models the input and the output dimensions are usually the same. But for demostration we are using different dimensions\n",
    "\"\"\"\n",
    "x_2 = inputs[1]\n",
    "print(f\"The tensor value for the second token is {x_2}\")\n"
   ]
  },
  {
   "cell_type": "code",
   "execution_count": 4,
   "id": "885da3e6",
   "metadata": {},
   "outputs": [
    {
     "name": "stdout",
     "output_type": "stream",
     "text": [
      "The query vector for the 2nd token is tensor([0.9067, 0.9696])\n",
      "The key vector for the 2nd token is tensor([1.8691, 0.7578])\n",
      "The value vector for the 2nd token is tensor([1.3737, 0.8218])\n"
     ]
    }
   ],
   "source": [
    "\"\"\"\n",
    "We get a 1x2 dimensional query, key and value vector. Even though our temporary goal is to only compute the one context vector z(2).\n",
    "We still require key and value vectors for all the input. As this is required for the calculation of the attention weights\n",
    "with respect to the query q(2).\n",
    "\"\"\"\n",
    "query_2 = x_2 @ W_query\n",
    "key_2 = x_2 @ W_key\n",
    "value_2 = x_2 @ W_value\n",
    "\n",
    "print(f\"The query vector for the 2nd token is {query_2}\")\n",
    "print(f\"The key vector for the 2nd token is {key_2}\")\n",
    "print(f\"The value vector for the 2nd token is {value_2}\")"
   ]
  },
  {
   "cell_type": "code",
   "execution_count": 5,
   "id": "4568a107",
   "metadata": {},
   "outputs": [
    {
     "name": "stdout",
     "output_type": "stream",
     "text": [
      "Shape of queries matrix: torch.Size([6, 2])\n",
      "Shape of keys matrix: torch.Size([6, 2])\n",
      "Shape of values matrix: torch.Size([6, 2])\n",
      " \n",
      "Attention score between the 2nd token and the 2nd token: 2.4293951988220215\n",
      " \n",
      "Attention score for the entire 2nd token: tensor([1.8588, 2.4294, 2.4035, 1.3044, 1.2610, 1.6452])\n",
      " \n",
      "Entire attention score matrix: tensor([[1.7468, 2.2918, 2.2682, 1.2294, 1.2043, 1.5433],\n",
      "        [1.8588, 2.4294, 2.4035, 1.3044, 1.2610, 1.6452],\n",
      "        [1.8243, 2.3833, 2.3578, 1.2798, 1.2355, 1.6149],\n",
      "        [0.9883, 1.2930, 1.2793, 0.6941, 0.6733, 0.8743],\n",
      "        [0.6894, 0.8831, 0.8721, 0.4765, 0.4286, 0.6157],\n",
      "        [1.3927, 1.8307, 1.8121, 0.9815, 0.9677, 1.2293]])\n"
     ]
    }
   ],
   "source": [
    "# Computing the query, key and value vectors\n",
    "\n",
    "queries = inputs @ W_query\n",
    "keys = inputs @ W_key\n",
    "values = inputs @ W_value\n",
    "\n",
    "# We have projected the 6 input tokens from a 3D space onto a 2D embedding space.\n",
    "print(f\"Shape of queries matrix: {queries.shape}\")\n",
    "print(f\"Shape of keys matrix: {keys.shape}\")\n",
    "print(f\"Shape of values matrix: {values.shape}\")\n",
    "print(\" \")\n",
    "\n",
    "# Computing the attention score for the 2nd token\n",
    "keys_2 = keys[1]\n",
    "attn_score_22 = query_2.dot(keys_2)\n",
    "print(f\"Attention score between the 2nd token and the 2nd token: {attn_score_22}\")\n",
    "print(\" \")\n",
    "\n",
    "# Generalising the computation to get all attention scores by matrix multiplication for the 2nd token\n",
    "attn_score_2 = query_2 @ keys.T #all attention scores for the 2nd token(query)\n",
    "print(f\"Attention score for the entire 2nd token: {attn_score_2}\")\n",
    "print(\" \")\n",
    "\n",
    "# Entire attention score matrix\n",
    "attn_score = queries @ keys.T\n",
    "print(f\"Entire attention score matrix: {attn_score}\")"
   ]
  },
  {
   "cell_type": "markdown",
   "id": "9122be93",
   "metadata": {},
   "source": [
    "The next step is to calculate the attention weights by scaling the attention scores and performing a softmax operation. For causal attention we need to mask the upper triangle with -ve infinity. We can resue the class SelfAttention_v2 from multi_head_attention.ipynb notebook"
   ]
  },
  {
   "cell_type": "code",
   "execution_count": 6,
   "id": "76835447",
   "metadata": {},
   "outputs": [],
   "source": [
    "inputs = torch.tensor(\n",
    "    [[0.43, 0.15, 0.89], # Yopur\n",
    "     [0.55, 0.87, 0.66], # journey\n",
    "     [0.57, 0.85, 0.64], # starts\n",
    "     [0.22, 0.58, 0.33], # with\n",
    "     [0.77, 0.25, 0.10], # one\n",
    "     [0.05, 0.80, 0.55]] # step\n",
    ")\n",
    "\n",
    "d_in = 3\n",
    "d_out = 2"
   ]
  },
  {
   "cell_type": "code",
   "execution_count": 7,
   "id": "f65af343",
   "metadata": {},
   "outputs": [],
   "source": [
    "class SelfAttention_v2(nn.Module):\n",
    "    \n",
    "    def __init__(self, d_in, d_out, qkv_bias=False):\n",
    "        super().__init__()\n",
    "        self.W_query = nn.Linear(d_in, d_out, bias = qkv_bias)\n",
    "        self.W_key = nn.Linear(d_in, d_out, bias = qkv_bias)\n",
    "        self.W_value = nn.Linear(d_in, d_out, bias = qkv_bias)\n",
    "\n",
    "    def forward(self, x):\n",
    "        keys = self.W_key(x)\n",
    "        queries = self.W_query(x)\n",
    "        values = self.W_value(x) \n",
    "\n",
    "        attn_scores = queries @ keys.T\n",
    "        attn_weight = torch.softmax(attn_scores / keys.shape[-1]**0.5, dim = -1)\n",
    "\n",
    "        context_vec = attn_weight @ values\n",
    "        return context_vec\n",
    "        \n",
    "sa_v2 = SelfAttention_v2(d_in, d_out)"
   ]
  },
  {
   "cell_type": "code",
   "execution_count": 8,
   "id": "43011d27",
   "metadata": {},
   "outputs": [
    {
     "name": "stdout",
     "output_type": "stream",
     "text": [
      "tensor([[0.1794, 0.1561, 0.1568, 0.1682, 0.1792, 0.1603],\n",
      "        [0.1656, 0.1572, 0.1577, 0.1745, 0.1764, 0.1686],\n",
      "        [0.1658, 0.1570, 0.1575, 0.1746, 0.1766, 0.1685],\n",
      "        [0.1636, 0.1630, 0.1631, 0.1711, 0.1701, 0.1692],\n",
      "        [0.1692, 0.1560, 0.1566, 0.1736, 0.1782, 0.1664],\n",
      "        [0.1620, 0.1645, 0.1646, 0.1707, 0.1682, 0.1699]],\n",
      "       grad_fn=<SoftmaxBackward0>)\n"
     ]
    }
   ],
   "source": [
    "queries = sa_v2.W_query(inputs)\n",
    "keys = sa_v2.W_key(inputs)\n",
    "attn_scores = queries @ keys.T\n",
    "attn_weights = torch.softmax(attn_scores / keys.shape[-1]**0.5, dim = 1 )\n",
    "print(attn_weights)"
   ]
  },
  {
   "cell_type": "code",
   "execution_count": 9,
   "id": "1bb1579f",
   "metadata": {},
   "outputs": [
    {
     "name": "stdout",
     "output_type": "stream",
     "text": [
      "tensor([[1., 1., 1., 1., 1., 1.],\n",
      "        [1., 1., 1., 1., 1., 1.],\n",
      "        [1., 1., 1., 1., 1., 1.],\n",
      "        [1., 1., 1., 1., 1., 1.],\n",
      "        [1., 1., 1., 1., 1., 1.],\n",
      "        [1., 1., 1., 1., 1., 1.]])\n",
      " \n",
      "tensor([[1., 0., 0., 0., 0., 0.],\n",
      "        [1., 1., 0., 0., 0., 0.],\n",
      "        [1., 1., 1., 0., 0., 0.],\n",
      "        [1., 1., 1., 1., 0., 0.],\n",
      "        [1., 1., 1., 1., 1., 0.],\n",
      "        [1., 1., 1., 1., 1., 1.]])\n",
      " \n",
      "tensor([[0.1794, 0.0000, 0.0000, 0.0000, 0.0000, 0.0000],\n",
      "        [0.1656, 0.1572, 0.0000, 0.0000, 0.0000, 0.0000],\n",
      "        [0.1658, 0.1570, 0.1575, 0.0000, 0.0000, 0.0000],\n",
      "        [0.1636, 0.1630, 0.1631, 0.1711, 0.0000, 0.0000],\n",
      "        [0.1692, 0.1560, 0.1566, 0.1736, 0.1782, 0.0000],\n",
      "        [0.1620, 0.1645, 0.1646, 0.1707, 0.1682, 0.1699]],\n",
      "       grad_fn=<MulBackward0>)\n",
      " \n",
      "tensor([[1.0000, 0.0000, 0.0000, 0.0000, 0.0000, 0.0000],\n",
      "        [0.5130, 0.4870, 0.0000, 0.0000, 0.0000, 0.0000],\n",
      "        [0.3452, 0.3270, 0.3279, 0.0000, 0.0000, 0.0000],\n",
      "        [0.2475, 0.2466, 0.2468, 0.2590, 0.0000, 0.0000],\n",
      "        [0.2030, 0.1872, 0.1878, 0.2082, 0.2138, 0.0000],\n",
      "        [0.1620, 0.1645, 0.1646, 0.1707, 0.1682, 0.1699]],\n",
      "       grad_fn=<DivBackward0>)\n"
     ]
    }
   ],
   "source": [
    "# 1st Method --> Updating attention weights above teh diagonal to zero and then normalising \n",
    "\n",
    "# We can use PyTorch tril function to create a mask where the values above the diagonal are zero\n",
    "context_length = attn_scores.shape[0]\n",
    "print(torch.ones(context_length, context_length))\n",
    "print(\" \")\n",
    "\n",
    "mask_simple = torch.tril(torch.ones(context_length, context_length)) # Masking upper diagonal with zero\n",
    "print(mask_simple)\n",
    "print(\" \")\n",
    "\n",
    "# Multiplying the masked matrix with the attention weights to zsero out the upper diagonal values.\n",
    "masked_simple = attn_weights * mask_simple\n",
    "print(masked_simple)\n",
    "print(\" \")\n",
    "\n",
    "# The elements above the diagonal are zeroed out but needs to be normalised\n",
    "row_sums = masked_simple.sum(dim =1, keepdim = True)\n",
    "masked_simple_norm = masked_simple/row_sums\n",
    "print(masked_simple_norm)"
   ]
  },
  {
   "cell_type": "code",
   "execution_count": 10,
   "id": "53bc46f8",
   "metadata": {},
   "outputs": [
    {
     "name": "stdout",
     "output_type": "stream",
     "text": [
      "tensor([[-0.0935, -0.2903, -0.2843, -0.1848, -0.0955, -0.2524],\n",
      "        [-0.2478, -0.3212, -0.3173, -0.1734, -0.1584, -0.2227],\n",
      "        [-0.2506, -0.3272, -0.3232, -0.1771, -0.1607, -0.2276],\n",
      "        [-0.1330, -0.1383, -0.1371, -0.0690, -0.0778, -0.0855],\n",
      "        [-0.2293, -0.3443, -0.3395, -0.1937, -0.1565, -0.2530],\n",
      "        [-0.1155, -0.0931, -0.0928, -0.0409, -0.0619, -0.0474]],\n",
      "       grad_fn=<MmBackward0>)\n",
      " \n",
      "tensor([[-0.0935,    -inf,    -inf,    -inf,    -inf,    -inf],\n",
      "        [-0.2478, -0.3212,    -inf,    -inf,    -inf,    -inf],\n",
      "        [-0.2506, -0.3272, -0.3232,    -inf,    -inf,    -inf],\n",
      "        [-0.1330, -0.1383, -0.1371, -0.0690,    -inf,    -inf],\n",
      "        [-0.2293, -0.3443, -0.3395, -0.1937, -0.1565,    -inf],\n",
      "        [-0.1155, -0.0931, -0.0928, -0.0409, -0.0619, -0.0474]],\n",
      "       grad_fn=<MaskedFillBackward0>)\n",
      " \n",
      "tensor([[1.0000, 0.0000, 0.0000, 0.0000, 0.0000, 0.0000],\n",
      "        [0.5130, 0.4870, 0.0000, 0.0000, 0.0000, 0.0000],\n",
      "        [0.3452, 0.3270, 0.3279, 0.0000, 0.0000, 0.0000],\n",
      "        [0.2475, 0.2466, 0.2468, 0.2590, 0.0000, 0.0000],\n",
      "        [0.2030, 0.1872, 0.1878, 0.2082, 0.2138, 0.0000],\n",
      "        [0.1620, 0.1645, 0.1646, 0.1707, 0.1682, 0.1699]],\n",
      "       grad_fn=<SoftmaxBackward0>)\n"
     ]
    }
   ],
   "source": [
    "# 2nd Method --> Updating attention scores above the diagonal to -ve infinity and then applying scaling normalising(softmax) to get attention scores\n",
    "print(attn_scores)  \n",
    "print(\" \")\n",
    "\n",
    "mask = torch.triu(torch.ones(context_length,context_length), diagonal = 1 )\n",
    "masked = attn_scores.masked_fill(mask.bool(), -torch.inf)\n",
    "print(masked)\n",
    "print(\" \")\n",
    "\n",
    "# applying softmax to the masked matrix, changes the -ve infinity to 0s and sum of every row = 1\n",
    "attn_weights = torch.softmax(masked / keys.shape[-1]**0.5, dim = 1)\n",
    "print(attn_weights) \n",
    "\n",
    "# Both the methods give us the same answer. But the 2nd method is more efficient than the 1st one."
   ]
  },
  {
   "cell_type": "code",
   "execution_count": 11,
   "id": "8cde3f15",
   "metadata": {},
   "outputs": [
    {
     "name": "stdout",
     "output_type": "stream",
     "text": [
      "tensor([[1., 1., 1., 1., 1., 1.],\n",
      "        [1., 1., 1., 1., 1., 1.],\n",
      "        [1., 1., 1., 1., 1., 1.],\n",
      "        [1., 1., 1., 1., 1., 1.],\n",
      "        [1., 1., 1., 1., 1., 1.],\n",
      "        [1., 1., 1., 1., 1., 1.]])\n",
      " \n",
      "Dropout example: tensor([[2., 2., 0., 2., 2., 0.],\n",
      "        [0., 0., 0., 2., 0., 2.],\n",
      "        [2., 2., 2., 2., 0., 2.],\n",
      "        [0., 2., 2., 0., 0., 2.],\n",
      "        [0., 2., 0., 2., 0., 2.],\n",
      "        [0., 2., 2., 2., 2., 0.]])\n",
      "\n",
      "Dropout example for the attention weights: tensor([[2.0000, 0.0000, 0.0000, 0.0000, 0.0000, 0.0000],\n",
      "        [0.0000, 0.0000, 0.0000, 0.0000, 0.0000, 0.0000],\n",
      "        [0.6903, 0.6539, 0.6558, 0.0000, 0.0000, 0.0000],\n",
      "        [0.0000, 0.4932, 0.4937, 0.0000, 0.0000, 0.0000],\n",
      "        [0.0000, 0.3744, 0.0000, 0.4164, 0.0000, 0.0000],\n",
      "        [0.0000, 0.3291, 0.3292, 0.3415, 0.3364, 0.0000]],\n",
      "       grad_fn=<MulBackward0>)\n"
     ]
    }
   ],
   "source": [
    "# Masking additional weights with dropout \n",
    "\"\"\"\n",
    "Using 50% dropout rate, masking half of the attention weights. Ideally when training the GPT models a lower dropout rate is prefered (0.1 or 0.2).\n",
    "Applying PyTorch's dropout implementation to a 6x6 tensor consisting of ones\n",
    "\"\"\"\n",
    "\n",
    "example = torch.ones(6,6)\n",
    "print(example)\n",
    "print(\" \")\n",
    "\n",
    "\"\"\"The dropout rate would be on an average, all the rows does not necessarily have to have 50% of the length being cut short.\n",
    "With 0.5 dropout factor the neurons which is not put to zero would be scaled by 1/ 0.5 .The scaling is to maintain the overall balance of the\n",
    "attention weights, ensuring that the average influence of the attention mechanism remains consistent during both the training and inference phase.\n",
    "\"\"\"\n",
    "torch.manual_seed(123)\n",
    "dropout = torch.nn.Dropout(0.5)\n",
    "print(f\"Dropout example: {dropout(example)}\\n\")\n",
    "\n",
    "# Applying dropout to the attention weigt matrix\n",
    "torch.manual_seed(123)\n",
    "print(f\"Dropout example for the attention weights: {dropout(attn_weights)}\")"
   ]
  },
  {
   "cell_type": "markdown",
   "id": "9ca3fa27",
   "metadata": {},
   "source": [
    "#### Putting all the pieces for a compact casual attention class"
   ]
  },
  {
   "cell_type": "code",
   "execution_count": 12,
   "id": "0a7c47af",
   "metadata": {},
   "outputs": [
    {
     "name": "stdout",
     "output_type": "stream",
     "text": [
      "torch.Size([2, 6, 3])\n"
     ]
    }
   ],
   "source": [
    "# Adding the casual attention and dropout modifications into the SelfAttention Python class.\n",
    "\"\"\"\"\n",
    "The code should handle the batches consisting of more than one input. This ensures that the casual attention class would handle the batch outputs\n",
    "produceed by the data loader. The batch inputs can be created by duplicating the input text example. 2 inputs with 6 tokens and each token has a \n",
    "embedding dimension of 3.\n",
    "\"\"\"\n",
    "\n",
    "inputs = torch.tensor(\n",
    "    [[0.43, 0.15, 0.89], # Yopur\n",
    "     [0.55, 0.87, 0.66], # journey\n",
    "     [0.57, 0.85, 0.64], # starts\n",
    "     [0.22, 0.58, 0.33], # with\n",
    "     [0.77, 0.25, 0.10], # one\n",
    "     [0.05, 0.80, 0.55]] # step\n",
    ")\n",
    "\n",
    "batch = torch.stack((inputs, inputs), dim = 0) \n",
    "print(batch.shape) # a 3D tensor of 2 input texts with 6 tokens each, where each token is a 3D embedding vector."
   ]
  },
  {
   "cell_type": "markdown",
   "id": "a22dd017",
   "metadata": {},
   "source": [
    "### Creating the Causal Attention Class\n",
    "\n",
    "Step 1: Add a dropout layer\\\n",
    "Step 2: register_buffer call is added\\\n",
    "Step 3: transpose dimensions 1 and 2, keeping the batch dimension at the first position (0).\\\n",
    "Step 4: In PyTorch, operations with a trailing underscore are performed in-place, avoiding unnecessary memory copies"
   ]
  },
  {
   "cell_type": "code",
   "execution_count": 13,
   "id": "1b760db9",
   "metadata": {},
   "outputs": [
    {
     "name": "stdout",
     "output_type": "stream",
     "text": [
      "Input dimension: 3\n",
      "Output dimension: 2\n",
      "\n",
      "Context vector shape: torch.Size([2, 6, 2])\n",
      "\n",
      "tensor([[[-0.5337, -0.1051],\n",
      "         [-0.5323, -0.1080],\n",
      "         [-0.5323, -0.1079],\n",
      "         [-0.5297, -0.1076],\n",
      "         [-0.5311, -0.1066],\n",
      "         [-0.5299, -0.1081]],\n",
      "\n",
      "        [[-0.5337, -0.1051],\n",
      "         [-0.5323, -0.1080],\n",
      "         [-0.5323, -0.1079],\n",
      "         [-0.5297, -0.1076],\n",
      "         [-0.5311, -0.1066],\n",
      "         [-0.5299, -0.1081]]], grad_fn=<UnsafeViewBackward0>)\n"
     ]
    }
   ],
   "source": [
    "class CasualAttention(nn.Module):\n",
    "    def __init__(self, d_in, d_out, context_length, dropout, qkv_bias = False):\n",
    "        super().__init__()\n",
    "        self.d_out = d_out\n",
    "        self.W_query = nn.Linear(d_in, d_out, bias = qkv_bias)\n",
    "        self.W_key = nn.Linear(d_in, d_out, bias = qkv_bias)\n",
    "        self.W_value = nn.Linear(d_in, d_out, bias = qkv_bias)\n",
    "        self.dropout = nn.Dropout(dropout)\n",
    "        self.register_buffer('mask', torch.triu(torch.ones(context_length,context_length), diagonal = 1))\n",
    "        \"\"\"\n",
    "        Using register_buffer is useful as buffers are automatically moved to the apprppriate device(CPU or GPU) along with our model, this is\n",
    "        relevant when training LLMs. Thus we do not need to manually ensure these tensors are on the same device as your model parameters, avoiding\n",
    "        device mismatch errors. \n",
    "        \"\"\"\n",
    "\n",
    "    def forward(self, x):\n",
    "        b, num_tokens, d_in = x.shape # b= batch size, num_tokens = number of tokens and d_in = input dimensions \n",
    "        keys = self.W_key(x)\n",
    "        queries = self.W_query(x)\n",
    "        values = self.W_value(x)\n",
    "\n",
    "        attn_scores = queries @ keys.transpose(1,2)\n",
    "        attn_scores.masked_fill(\n",
    "            self.mask.bool()[:num_tokens, :num_tokens], -torch.inf) # replacing the upper diagonal with -ve infinity\n",
    "        attn_weights = torch.softmax(\n",
    "            attn_scores / keys.shape[-1] **0.5, dim = -1)\n",
    "        attn_weights = self.dropout(attn_weights) # introducing the dropout\n",
    "\n",
    "        context_vec = attn_weights @ values\n",
    "\n",
    "        return context_vec\n",
    "    \n",
    "print(f\"Input dimension: {d_in}\")\n",
    "print(f\"Output dimension: {d_out}\\n\")\n",
    "\n",
    "torch.manual_seed(123)\n",
    "context_length = batch.shape[1]\n",
    "ca = CasualAttention(d_in, d_out, context_length, 0.0)\n",
    "context_vecs = ca(batch)\n",
    "print(f\"Context vector shape: {context_vecs.shape}\\n\")\n",
    "print(context_vecs)"
   ]
  },
  {
   "cell_type": "code",
   "execution_count": 18,
   "id": "153c19b0",
   "metadata": {},
   "outputs": [
    {
     "name": "stdout",
     "output_type": "stream",
     "text": [
      "Attention weights before dropout:\n",
      "tensor([[[0.1717, 0.1762, 0.1761, 0.1555, 0.1627, 0.1579],\n",
      "         [0.1636, 0.1749, 0.1746, 0.1612, 0.1605, 0.1652],\n",
      "         [0.1637, 0.1749, 0.1746, 0.1611, 0.1606, 0.1651],\n",
      "         [0.1636, 0.1704, 0.1702, 0.1652, 0.1632, 0.1674],\n",
      "         [0.1667, 0.1722, 0.1721, 0.1618, 0.1633, 0.1639],\n",
      "         [0.1624, 0.1709, 0.1706, 0.1654, 0.1625, 0.1682]],\n",
      "\n",
      "        [[0.1717, 0.1762, 0.1761, 0.1555, 0.1627, 0.1579],\n",
      "         [0.1636, 0.1749, 0.1746, 0.1612, 0.1605, 0.1652],\n",
      "         [0.1637, 0.1749, 0.1746, 0.1611, 0.1606, 0.1651],\n",
      "         [0.1636, 0.1704, 0.1702, 0.1652, 0.1632, 0.1674],\n",
      "         [0.1667, 0.1722, 0.1721, 0.1618, 0.1633, 0.1639],\n",
      "         [0.1624, 0.1709, 0.1706, 0.1654, 0.1625, 0.1682]]],\n",
      "       grad_fn=<SoftmaxBackward0>)\n",
      "\n",
      "Attention weights after dropout:\n",
      "tensor([[[0.3433, 0.0000, 0.3522, 0.3110, 0.3253, 0.3158],\n",
      "         [0.3272, 0.0000, 0.3492, 0.0000, 0.3210, 0.3303],\n",
      "         [0.0000, 0.0000, 0.3492, 0.0000, 0.3211, 0.0000],\n",
      "         [0.3273, 0.0000, 0.3403, 0.0000, 0.3265, 0.3349],\n",
      "         [0.3334, 0.3445, 0.0000, 0.3235, 0.0000, 0.0000],\n",
      "         [0.0000, 0.0000, 0.0000, 0.0000, 0.0000, 0.3363]],\n",
      "\n",
      "        [[0.0000, 0.3524, 0.3522, 0.0000, 0.3253, 0.3158],\n",
      "         [0.3272, 0.3499, 0.3492, 0.0000, 0.0000, 0.3303],\n",
      "         [0.3274, 0.0000, 0.3492, 0.0000, 0.0000, 0.0000],\n",
      "         [0.0000, 0.3407, 0.3403, 0.3304, 0.3265, 0.0000],\n",
      "         [0.3334, 0.3445, 0.3442, 0.0000, 0.0000, 0.3278],\n",
      "         [0.3249, 0.3418, 0.0000, 0.3308, 0.3249, 0.0000]]],\n",
      "       grad_fn=<MulBackward0>)\n"
     ]
    }
   ],
   "source": [
    "class CasualAttention(nn.Module):\n",
    "    def __init__(self, d_in, d_out, context_length, dropout, qkv_bias = False):\n",
    "        super().__init__()\n",
    "        self.d_out = d_out\n",
    "        self.W_query = nn.Linear(d_in, d_out, bias = qkv_bias)\n",
    "        self.W_key = nn.Linear(d_in, d_out, bias = qkv_bias)\n",
    "        self.W_value = nn.Linear(d_in, d_out, bias = qkv_bias)\n",
    "        self.dropout = nn.Dropout(dropout)\n",
    "        self.register_buffer('mask', torch.triu(torch.ones(context_length,context_length), diagonal = 1))\n",
    "        \"\"\"\n",
    "        Using register_buffer is useful as buffers are automatically moved to the apprppriate device(CPU or GPU) along with our model, this is\n",
    "        relevant when training LLMs. Thus we do not need to manually ensure these tensors are on the same device as your model parameters, avoiding\n",
    "        device mismatch errors. \n",
    "        \"\"\"\n",
    "\n",
    "    def forward(self, x):\n",
    "        b, num_tokens, d_in = x.shape # b= batch size, num_tokens = number of tokens and d_in = input dimensions \n",
    "        keys = self.W_key(x)\n",
    "        queries = self.W_query(x)\n",
    "        values = self.W_value(x)\n",
    "\n",
    "        attn_scores = queries @ keys.transpose(1,2)\n",
    "        attn_scores.masked_fill(\n",
    "            self.mask.bool()[:num_tokens, :num_tokens], -torch.inf) # replacing the upper diagonal with -ve infinity\n",
    "        attn_weights = torch.softmax(\n",
    "            attn_scores / keys.shape[-1] **0.5, dim = -1)\n",
    "\n",
    "        print(f\"Attention weights before dropout:\\n{attn_weights}\")\n",
    "\n",
    "        attn_weights = self.dropout(attn_weights) # introducing the dropout\n",
    "        print(f\"\\nAttention weights after dropout:\\n{attn_weights}\")\n",
    "\n",
    "        context_vec = attn_weights @ values\n",
    "\n",
    "        return context_vec\n",
    "    \n",
    "torch.manual_seed(123)\n",
    "context_length = batch.shape[1]\n",
    "ca = CasualAttention(d_in, d_out, context_length, 0.5)\n",
    "context_vecs = ca(batch)\n",
    "# print(f\"Context vector shape: {context_vecs.shape}\\n\")\n",
    "# print(context_vecs)   "
   ]
  },
  {
   "cell_type": "code",
   "execution_count": null,
   "id": "2d875a99",
   "metadata": {},
   "outputs": [],
   "source": []
  }
 ],
 "metadata": {
  "kernelspec": {
   "display_name": "Python 3",
   "language": "python",
   "name": "python3"
  },
  "language_info": {
   "codemirror_mode": {
    "name": "ipython",
    "version": 3
   },
   "file_extension": ".py",
   "mimetype": "text/x-python",
   "name": "python",
   "nbconvert_exporter": "python",
   "pygments_lexer": "ipython3",
   "version": "3.12.1"
  }
 },
 "nbformat": 4,
 "nbformat_minor": 5
}
