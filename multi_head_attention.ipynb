{
 "cells": [
  {
   "cell_type": "markdown",
   "id": "361b9e36",
   "metadata": {},
   "source": [
    "## Multi Head Attention"
   ]
  },
  {
   "cell_type": "markdown",
   "id": "9dabc91a",
   "metadata": {},
   "source": [
    "### Why scaling is important before softmax\n",
    "\n",
    "* "
   ]
  },
  {
   "cell_type": "code",
   "execution_count": 3,
   "id": "bb422d63",
   "metadata": {},
   "outputs": [],
   "source": [
    "import torch\n",
    "import pandas as pd\n",
    "import numpy as np\n",
    "import random"
   ]
  },
  {
   "cell_type": "code",
   "execution_count": 2,
   "id": "9cfecd54",
   "metadata": {},
   "outputs": [
    {
     "name": "stdout",
     "output_type": "stream",
     "text": [
      "Softmax without scaling: tensor([0.2836, 0.1274, 0.3463, 0.1153, 0.1274])\n",
      "Softmax with scaling: tensor([1.6787e-01, 2.7892e-04, 8.3145e-01, 1.2533e-04, 2.7892e-04])\n"
     ]
    }
   ],
   "source": [
    "# define the tensor\n",
    "tensor = torch.tensor([0.5, -0.3, 0.7, -0.4, -0.3])\n",
    "\n",
    "# apply softmax without scaling\n",
    "softmax_result = torch.softmax(tensor, dim =-1)\n",
    "print(\"Softmax without scaling:\", softmax_result)\n",
    "\n",
    "# apply softmax with scaling\n",
    "scaled_tensor = tensor*8\n",
    "softmax_scaled_result = torch.softmax(scaled_tensor, dim = -1)\n",
    "print(\"Softmax with scaling:\", softmax_scaled_result)"
   ]
  },
  {
   "cell_type": "markdown",
   "id": "de9700b1",
   "metadata": {},
   "source": [
    "* This is not good as the weights are not proportionally distributed. This can be an issue with the attention mechanism.\n",
    "* **Thus, we need to have normalisation before applying softmax on the tensor to have better proportion of weights to add upto 1.**\n",
    "* **Normalization** is done by dividing the dot product of query matrix and key matrix (transpose). We get the attention scores.\n",
    "* Then we convert the **attention scores** to **attention weights**\n",
    "* We need to make the variance of the dot product stable\n"
   ]
  },
  {
   "cell_type": "code",
   "execution_count": null,
   "id": "edb17f36",
   "metadata": {},
   "outputs": [],
   "source": [
    "# Function to compute variance before and after scaling\n",
    "\n",
    "def compute_variance(dim, trials =1000):\n",
    "    dot_products = []\n",
    "    scaled_dot_products = []\n",
    "\n",
    "    # Generate multiple random vectors and compute dot products\n",
    "    for _ in range(trials):\n",
    "        q = np.random.randn(dim)\n",
    "        k = np.random.randn(dim)\n",
    "\n",
    "        # getting dot product\n",
    "        dot_product = np.dot(q,k)\n",
    "        dot_products.append(dot_product)\n",
    "\n",
    "        # scale the dot product by sqrt\n",
    "        scaled_dot_product = dot_product/np.sqrt(dim)\n",
    "        scaled_dot_products.append(scaled_dot_product)\n",
    "\n",
    "    "
   ]
  },
  {
   "cell_type": "code",
   "execution_count": null,
   "id": "3994bd76",
   "metadata": {},
   "outputs": [],
   "source": []
  },
  {
   "cell_type": "code",
   "execution_count": null,
   "id": "fa321563",
   "metadata": {},
   "outputs": [],
   "source": []
  }
 ],
 "metadata": {
  "kernelspec": {
   "display_name": "Python 3",
   "language": "python",
   "name": "python3"
  },
  "language_info": {
   "codemirror_mode": {
    "name": "ipython",
    "version": 3
   },
   "file_extension": ".py",
   "mimetype": "text/x-python",
   "name": "python",
   "nbconvert_exporter": "python",
   "pygments_lexer": "ipython3",
   "version": "3.12.1"
  }
 },
 "nbformat": 4,
 "nbformat_minor": 5
}
